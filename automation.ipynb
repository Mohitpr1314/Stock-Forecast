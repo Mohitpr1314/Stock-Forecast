{
 "cells": [
  {
   "cell_type": "code",
   "execution_count": 1,
   "id": "66a5c1b6",
   "metadata": {},
   "outputs": [
    {
     "name": "stdout",
     "output_type": "stream",
     "text": [
      "Processing AAPL - Apple Inc.\n"
     ]
    },
    {
     "name": "stderr",
     "output_type": "stream",
     "text": [
      "C:\\Users\\User\\AppData\\Local\\Temp\\ipykernel_4388\\727345175.py:52: FutureWarning: YF.download() has changed argument auto_adjust default to True\n",
      "  df = yf.download(ticker, start=START_DATE, end=END_DATE)\n",
      "[*********************100%***********************]  1 of 1 completed\n"
     ]
    },
    {
     "name": "stdout",
     "output_type": "stream",
     "text": [
      "\u001b[1m1/1\u001b[0m \u001b[32m━━━━━━━━━━━━━━━━━━━━\u001b[0m\u001b[37m\u001b[0m \u001b[1m3s\u001b[0m 3s/step\n",
      "Processing MSFT - Microsoft Corporation\n"
     ]
    },
    {
     "name": "stderr",
     "output_type": "stream",
     "text": [
      "C:\\Users\\User\\AppData\\Local\\Temp\\ipykernel_4388\\727345175.py:52: FutureWarning: YF.download() has changed argument auto_adjust default to True\n",
      "  df = yf.download(ticker, start=START_DATE, end=END_DATE)\n",
      "[*********************100%***********************]  1 of 1 completed"
     ]
    },
    {
     "name": "stdout",
     "output_type": "stream",
     "text": [
      "\u001b[1m1/1\u001b[0m \u001b[32m━━━━━━━━━━━━━━━━━━━━\u001b[0m\u001b[37m\u001b[0m \u001b[1m0s\u001b[0m 66ms/step\n"
     ]
    },
    {
     "name": "stderr",
     "output_type": "stream",
     "text": [
      "\n"
     ]
    },
    {
     "name": "stdout",
     "output_type": "stream",
     "text": [
      "Processing AMZN - Amazon.com, Inc.\n"
     ]
    },
    {
     "name": "stderr",
     "output_type": "stream",
     "text": [
      "C:\\Users\\User\\AppData\\Local\\Temp\\ipykernel_4388\\727345175.py:52: FutureWarning: YF.download() has changed argument auto_adjust default to True\n",
      "  df = yf.download(ticker, start=START_DATE, end=END_DATE)\n",
      "[*********************100%***********************]  1 of 1 completed\n"
     ]
    },
    {
     "name": "stdout",
     "output_type": "stream",
     "text": [
      "\u001b[1m1/1\u001b[0m \u001b[32m━━━━━━━━━━━━━━━━━━━━\u001b[0m\u001b[37m\u001b[0m \u001b[1m0s\u001b[0m 83ms/step\n",
      "Processing GOOGL - Alphabet Inc. (Class A)\n"
     ]
    },
    {
     "name": "stderr",
     "output_type": "stream",
     "text": [
      "C:\\Users\\User\\AppData\\Local\\Temp\\ipykernel_4388\\727345175.py:52: FutureWarning: YF.download() has changed argument auto_adjust default to True\n",
      "  df = yf.download(ticker, start=START_DATE, end=END_DATE)\n",
      "[*********************100%***********************]  1 of 1 completed"
     ]
    },
    {
     "name": "stdout",
     "output_type": "stream",
     "text": [
      "\u001b[1m1/1\u001b[0m \u001b[32m━━━━━━━━━━━━━━━━━━━━\u001b[0m\u001b[37m\u001b[0m \u001b[1m0s\u001b[0m 102ms/step\n"
     ]
    },
    {
     "name": "stderr",
     "output_type": "stream",
     "text": [
      "\n"
     ]
    },
    {
     "name": "stdout",
     "output_type": "stream",
     "text": [
      "Processing META - Meta Platforms, Inc.\n"
     ]
    },
    {
     "name": "stderr",
     "output_type": "stream",
     "text": [
      "C:\\Users\\User\\AppData\\Local\\Temp\\ipykernel_4388\\727345175.py:52: FutureWarning: YF.download() has changed argument auto_adjust default to True\n",
      "  df = yf.download(ticker, start=START_DATE, end=END_DATE)\n",
      "[*********************100%***********************]  1 of 1 completed"
     ]
    },
    {
     "name": "stdout",
     "output_type": "stream",
     "text": [
      "\u001b[1m1/1\u001b[0m \u001b[32m━━━━━━━━━━━━━━━━━━━━\u001b[0m\u001b[37m\u001b[0m \u001b[1m0s\u001b[0m 45ms/step"
     ]
    },
    {
     "name": "stderr",
     "output_type": "stream",
     "text": [
      "\n"
     ]
    },
    {
     "name": "stdout",
     "output_type": "stream",
     "text": [
      "\u001b[1m1/1\u001b[0m \u001b[32m━━━━━━━━━━━━━━━━━━━━\u001b[0m\u001b[37m\u001b[0m \u001b[1m0s\u001b[0m 81ms/step\n",
      "Processing NVDA - NVIDIA Corporation\n"
     ]
    },
    {
     "name": "stderr",
     "output_type": "stream",
     "text": [
      "C:\\Users\\User\\AppData\\Local\\Temp\\ipykernel_4388\\727345175.py:52: FutureWarning: YF.download() has changed argument auto_adjust default to True\n",
      "  df = yf.download(ticker, start=START_DATE, end=END_DATE)\n",
      "[*********************100%***********************]  1 of 1 completed\n"
     ]
    },
    {
     "name": "stdout",
     "output_type": "stream",
     "text": [
      "\u001b[1m1/1\u001b[0m \u001b[32m━━━━━━━━━━━━━━━━━━━━\u001b[0m\u001b[37m\u001b[0m \u001b[1m0s\u001b[0m 79ms/step\n",
      "Processing TSLA - Tesla, Inc.\n"
     ]
    },
    {
     "name": "stderr",
     "output_type": "stream",
     "text": [
      "C:\\Users\\User\\AppData\\Local\\Temp\\ipykernel_4388\\727345175.py:52: FutureWarning: YF.download() has changed argument auto_adjust default to True\n",
      "  df = yf.download(ticker, start=START_DATE, end=END_DATE)\n",
      "[*********************100%***********************]  1 of 1 completed"
     ]
    },
    {
     "name": "stdout",
     "output_type": "stream",
     "text": [
      "\u001b[1m1/1\u001b[0m \u001b[32m━━━━━━━━━━━━━━━━━━━━\u001b[0m\u001b[37m\u001b[0m \u001b[1m0s\u001b[0m 90ms/step\n"
     ]
    },
    {
     "name": "stderr",
     "output_type": "stream",
     "text": [
      "\n"
     ]
    },
    {
     "name": "stdout",
     "output_type": "stream",
     "text": [
      "Processing JPM - JPMorgan Chase & Co.\n"
     ]
    },
    {
     "name": "stderr",
     "output_type": "stream",
     "text": [
      "C:\\Users\\User\\AppData\\Local\\Temp\\ipykernel_4388\\727345175.py:52: FutureWarning: YF.download() has changed argument auto_adjust default to True\n",
      "  df = yf.download(ticker, start=START_DATE, end=END_DATE)\n",
      "[*********************100%***********************]  1 of 1 completed"
     ]
    },
    {
     "name": "stdout",
     "output_type": "stream",
     "text": [
      "\u001b[1m1/1\u001b[0m \u001b[32m━━━━━━━━━━━━━━━━━━━━\u001b[0m\u001b[37m\u001b[0m \u001b[1m0s\u001b[0m 87ms/step\n"
     ]
    },
    {
     "name": "stderr",
     "output_type": "stream",
     "text": [
      "\n"
     ]
    },
    {
     "name": "stdout",
     "output_type": "stream",
     "text": [
      "Processing BRK-B - Berkshire Hathaway Inc. (Class B)\n"
     ]
    },
    {
     "name": "stderr",
     "output_type": "stream",
     "text": [
      "C:\\Users\\User\\AppData\\Local\\Temp\\ipykernel_4388\\727345175.py:52: FutureWarning: YF.download() has changed argument auto_adjust default to True\n",
      "  df = yf.download(ticker, start=START_DATE, end=END_DATE)\n",
      "[*********************100%***********************]  1 of 1 completed\n"
     ]
    },
    {
     "name": "stdout",
     "output_type": "stream",
     "text": [
      "\u001b[1m1/1\u001b[0m \u001b[32m━━━━━━━━━━━━━━━━━━━━\u001b[0m\u001b[37m\u001b[0m \u001b[1m0s\u001b[0m 86ms/step\n",
      "Processing V - Visa Inc.\n"
     ]
    },
    {
     "name": "stderr",
     "output_type": "stream",
     "text": [
      "C:\\Users\\User\\AppData\\Local\\Temp\\ipykernel_4388\\727345175.py:52: FutureWarning: YF.download() has changed argument auto_adjust default to True\n",
      "  df = yf.download(ticker, start=START_DATE, end=END_DATE)\n",
      "[*********************100%***********************]  1 of 1 completed"
     ]
    },
    {
     "name": "stdout",
     "output_type": "stream",
     "text": [
      "\u001b[1m1/1\u001b[0m \u001b[32m━━━━━━━━━━━━━━━━━━━━\u001b[0m\u001b[37m\u001b[0m \u001b[1m0s\u001b[0m 57ms/step"
     ]
    },
    {
     "name": "stderr",
     "output_type": "stream",
     "text": [
      "\n"
     ]
    },
    {
     "name": "stdout",
     "output_type": "stream",
     "text": [
      "\u001b[1m1/1\u001b[0m \u001b[32m━━━━━━━━━━━━━━━━━━━━\u001b[0m\u001b[37m\u001b[0m \u001b[1m0s\u001b[0m 94ms/step\n",
      "Processing TCS.NS - Tata Consultancy Services\n"
     ]
    },
    {
     "name": "stderr",
     "output_type": "stream",
     "text": [
      "C:\\Users\\User\\AppData\\Local\\Temp\\ipykernel_4388\\727345175.py:52: FutureWarning: YF.download() has changed argument auto_adjust default to True\n",
      "  df = yf.download(ticker, start=START_DATE, end=END_DATE)\n",
      "[*********************100%***********************]  1 of 1 completed\n"
     ]
    },
    {
     "name": "stdout",
     "output_type": "stream",
     "text": [
      "\u001b[1m1/1\u001b[0m \u001b[32m━━━━━━━━━━━━━━━━━━━━\u001b[0m\u001b[37m\u001b[0m \u001b[1m0s\u001b[0m 91ms/step\n",
      "Processing INFY.NS - Infosys Ltd\n"
     ]
    },
    {
     "name": "stderr",
     "output_type": "stream",
     "text": [
      "C:\\Users\\User\\AppData\\Local\\Temp\\ipykernel_4388\\727345175.py:52: FutureWarning: YF.download() has changed argument auto_adjust default to True\n",
      "  df = yf.download(ticker, start=START_DATE, end=END_DATE)\n",
      "[*********************100%***********************]  1 of 1 completed\n"
     ]
    },
    {
     "name": "stdout",
     "output_type": "stream",
     "text": [
      "\u001b[1m1/1\u001b[0m \u001b[32m━━━━━━━━━━━━━━━━━━━━\u001b[0m\u001b[37m\u001b[0m \u001b[1m0s\u001b[0m 96ms/step\n",
      "Processing HDFCBANK.NS - HDFC Bank Ltd\n"
     ]
    },
    {
     "name": "stderr",
     "output_type": "stream",
     "text": [
      "C:\\Users\\User\\AppData\\Local\\Temp\\ipykernel_4388\\727345175.py:52: FutureWarning: YF.download() has changed argument auto_adjust default to True\n",
      "  df = yf.download(ticker, start=START_DATE, end=END_DATE)\n",
      "[*********************100%***********************]  1 of 1 completed\n"
     ]
    },
    {
     "name": "stdout",
     "output_type": "stream",
     "text": [
      "\u001b[1m1/1\u001b[0m \u001b[32m━━━━━━━━━━━━━━━━━━━━\u001b[0m\u001b[37m\u001b[0m \u001b[1m0s\u001b[0m 169ms/step\n",
      "Processing SBIN.NS - State Bank of India\n"
     ]
    },
    {
     "name": "stderr",
     "output_type": "stream",
     "text": [
      "C:\\Users\\User\\AppData\\Local\\Temp\\ipykernel_4388\\727345175.py:52: FutureWarning: YF.download() has changed argument auto_adjust default to True\n",
      "  df = yf.download(ticker, start=START_DATE, end=END_DATE)\n",
      "[*********************100%***********************]  1 of 1 completed\n"
     ]
    },
    {
     "name": "stdout",
     "output_type": "stream",
     "text": [
      "\u001b[1m1/1\u001b[0m \u001b[32m━━━━━━━━━━━━━━━━━━━━\u001b[0m\u001b[37m\u001b[0m \u001b[1m0s\u001b[0m 81ms/step\n",
      "Processing RELIANCE.NS - Reliance Industries Ltd\n"
     ]
    },
    {
     "name": "stderr",
     "output_type": "stream",
     "text": [
      "C:\\Users\\User\\AppData\\Local\\Temp\\ipykernel_4388\\727345175.py:52: FutureWarning: YF.download() has changed argument auto_adjust default to True\n",
      "  df = yf.download(ticker, start=START_DATE, end=END_DATE)\n",
      "[*********************100%***********************]  1 of 1 completed\n"
     ]
    },
    {
     "name": "stdout",
     "output_type": "stream",
     "text": [
      "\u001b[1m1/1\u001b[0m \u001b[32m━━━━━━━━━━━━━━━━━━━━\u001b[0m\u001b[37m\u001b[0m \u001b[1m0s\u001b[0m 175ms/step\n",
      "Forecasts for all stocks saved in SQLite database 'stock_forecasts.db'.\n"
     ]
    }
   ],
   "source": [
    "# Forecast and Save to SQLite \n",
    "\n",
    "import pandas as pd\n",
    "import numpy as np\n",
    "import yfinance as yf\n",
    "from keras.models import load_model\n",
    "from sklearn.preprocessing import MinMaxScaler\n",
    "import keras\n",
    "import sqlite3\n",
    "from datetime import datetime\n",
    "\n",
    "# Define your stock options here\n",
    "STOCKS = {\n",
    "    \"AAPL\": \"Apple Inc.\",\n",
    "    \"MSFT\": \"Microsoft Corporation\",\n",
    "    \"AMZN\": \"Amazon.com, Inc.\",\n",
    "    \"GOOGL\": \"Alphabet Inc. (Class A)\",\n",
    "    \"META\": \"Meta Platforms, Inc.\",\n",
    "    \"NVDA\": \"NVIDIA Corporation\",\n",
    "    \"TSLA\": \"Tesla, Inc.\",\n",
    "    \"JPM\": \"JPMorgan Chase & Co.\",\n",
    "    \"BRK-B\": \"Berkshire Hathaway Inc. (Class B)\",\n",
    "    \"V\": \"Visa Inc.\",\n",
    "    \"TCS.NS\": \"Tata Consultancy Services\",\n",
    "    \"INFY.NS\": \"Infosys Ltd\",\n",
    "    \"HDFCBANK.NS\": \"HDFC Bank Ltd\",\n",
    "    \"SBIN.NS\": \"State Bank of India\",\n",
    "    \"RELIANCE.NS\": \"Reliance Industries Ltd\"\n",
    "}\n",
    "\n",
    "START_DATE = '2010-01-01'\n",
    "END_DATE = '2025-06-30'\n",
    "\n",
    "model = load_model(\"seq2seq_lstm_stock_forecast.h5\", compile=False)\n",
    "model.compile(optimizer='adam', loss=keras.losses.MeanSquaredError())\n",
    "\n",
    "# Create SQLite DB\n",
    "conn = sqlite3.connect('stock_forecasts.db')\n",
    "cur = conn.cursor()\n",
    "cur.execute('''\n",
    "CREATE TABLE IF NOT EXISTS forecasts (\n",
    "    stock TEXT,\n",
    "    company TEXT,\n",
    "    days_ahead INTEGER,\n",
    "    forecast_date TEXT,\n",
    "    predicted_price REAL\n",
    ")\n",
    "''')\n",
    "\n",
    "for ticker, company in STOCKS.items():\n",
    "    print(f\"Processing {ticker} - {company}\")\n",
    "    df = yf.download(ticker, start=START_DATE, end=END_DATE)\n",
    "    df = df[['Close']].dropna()\n",
    "\n",
    "    if df.empty or len(df) < 100:\n",
    "        print(f\"Skipping {ticker} - insufficient data\")\n",
    "        continue\n",
    "\n",
    "    scaler = MinMaxScaler()\n",
    "    scaled_close = scaler.fit_transform(df[['Close']])\n",
    "    lookback_days = 100\n",
    "    forecast_days = 90\n",
    "    last_seq = scaled_close[-lookback_days:].reshape(1, lookback_days, 1)\n",
    "    predicted_scaled = model.predict(last_seq)\n",
    "    predicted_prices = scaler.inverse_transform(predicted_scaled.reshape(-1, 1)).flatten()\n",
    "    future_dates = pd.date_range(start=df.index[-1] + pd.Timedelta(days=1), periods=forecast_days, freq='B')\n",
    "\n",
    "    for horizon in [30, 60, 90]:\n",
    "        for i in range(horizon):\n",
    "            cur.execute(\n",
    "                \"INSERT INTO forecasts (stock, company, days_ahead, forecast_date, predicted_price) VALUES (?, ?, ?, ?, ?)\",\n",
    "                (ticker, company, horizon, str(future_dates[i].date()), float(predicted_prices[i]))\n",
    "            )\n",
    "\n",
    "conn.commit()\n",
    "conn.close()\n",
    "print(\"Forecasts for all stocks saved in SQLite database 'stock_forecasts.db'.\")\n"
   ]
  },
  {
   "cell_type": "code",
   "execution_count": 5,
   "id": "23ca5664",
   "metadata": {},
   "outputs": [
    {
     "name": "stdout",
     "output_type": "stream",
     "text": [
      "\n",
      "Processing AAPL - Apple Inc.\n"
     ]
    },
    {
     "name": "stderr",
     "output_type": "stream",
     "text": [
      "C:\\Users\\User\\AppData\\Local\\Temp\\ipykernel_13900\\947995425.py:49: FutureWarning: YF.download() has changed argument auto_adjust default to True\n",
      "  df = yf.download(ticker, start=START_DATE, end=END_DATE)\n",
      "[*********************100%***********************]  1 of 1 completed\n"
     ]
    },
    {
     "name": "stdout",
     "output_type": "stream",
     "text": [
      "\u001b[1m1/1\u001b[0m \u001b[32m━━━━━━━━━━━━━━━━━━━━\u001b[0m\u001b[37m\u001b[0m \u001b[1m5s\u001b[0m 5s/step\n",
      "  Done. Extracted forecasts for days: [30, 60, 90]\n",
      "\n",
      "Processing MSFT - Microsoft Corporation\n"
     ]
    },
    {
     "name": "stderr",
     "output_type": "stream",
     "text": [
      "C:\\Users\\User\\AppData\\Local\\Temp\\ipykernel_13900\\947995425.py:49: FutureWarning: YF.download() has changed argument auto_adjust default to True\n",
      "  df = yf.download(ticker, start=START_DATE, end=END_DATE)\n",
      "[*********************100%***********************]  1 of 1 completed\n"
     ]
    },
    {
     "name": "stdout",
     "output_type": "stream",
     "text": [
      "\u001b[1m1/1\u001b[0m \u001b[32m━━━━━━━━━━━━━━━━━━━━\u001b[0m\u001b[37m\u001b[0m \u001b[1m0s\u001b[0m 155ms/step\n",
      "  Done. Extracted forecasts for days: [30, 60, 90]\n",
      "\n",
      "Processing AMZN - Amazon.com, Inc.\n"
     ]
    },
    {
     "name": "stderr",
     "output_type": "stream",
     "text": [
      "C:\\Users\\User\\AppData\\Local\\Temp\\ipykernel_13900\\947995425.py:49: FutureWarning: YF.download() has changed argument auto_adjust default to True\n",
      "  df = yf.download(ticker, start=START_DATE, end=END_DATE)\n",
      "[*********************100%***********************]  1 of 1 completed\n"
     ]
    },
    {
     "name": "stdout",
     "output_type": "stream",
     "text": [
      "\u001b[1m1/1\u001b[0m \u001b[32m━━━━━━━━━━━━━━━━━━━━\u001b[0m\u001b[37m\u001b[0m \u001b[1m0s\u001b[0m 318ms/step\n",
      "  Done. Extracted forecasts for days: [30, 60, 90]\n",
      "\n",
      "Processing GOOGL - Alphabet Inc. (Class A)\n"
     ]
    },
    {
     "name": "stderr",
     "output_type": "stream",
     "text": [
      "C:\\Users\\User\\AppData\\Local\\Temp\\ipykernel_13900\\947995425.py:49: FutureWarning: YF.download() has changed argument auto_adjust default to True\n",
      "  df = yf.download(ticker, start=START_DATE, end=END_DATE)\n",
      "[*********************100%***********************]  1 of 1 completed\n"
     ]
    },
    {
     "name": "stdout",
     "output_type": "stream",
     "text": [
      "\u001b[1m1/1\u001b[0m \u001b[32m━━━━━━━━━━━━━━━━━━━━\u001b[0m\u001b[37m\u001b[0m \u001b[1m0s\u001b[0m 275ms/step\n",
      "  Done. Extracted forecasts for days: [30, 60, 90]\n",
      "\n",
      "Processing META - Meta Platforms, Inc.\n"
     ]
    },
    {
     "name": "stderr",
     "output_type": "stream",
     "text": [
      "C:\\Users\\User\\AppData\\Local\\Temp\\ipykernel_13900\\947995425.py:49: FutureWarning: YF.download() has changed argument auto_adjust default to True\n",
      "  df = yf.download(ticker, start=START_DATE, end=END_DATE)\n",
      "[*********************100%***********************]  1 of 1 completed\n"
     ]
    },
    {
     "name": "stdout",
     "output_type": "stream",
     "text": [
      "\u001b[1m1/1\u001b[0m \u001b[32m━━━━━━━━━━━━━━━━━━━━\u001b[0m\u001b[37m\u001b[0m \u001b[1m0s\u001b[0m 179ms/step\n",
      "  Done. Extracted forecasts for days: [30, 60, 90]\n",
      "\n",
      "Processing NVDA - NVIDIA Corporation\n"
     ]
    },
    {
     "name": "stderr",
     "output_type": "stream",
     "text": [
      "C:\\Users\\User\\AppData\\Local\\Temp\\ipykernel_13900\\947995425.py:49: FutureWarning: YF.download() has changed argument auto_adjust default to True\n",
      "  df = yf.download(ticker, start=START_DATE, end=END_DATE)\n",
      "[*********************100%***********************]  1 of 1 completed\n"
     ]
    },
    {
     "name": "stdout",
     "output_type": "stream",
     "text": [
      "\u001b[1m1/1\u001b[0m \u001b[32m━━━━━━━━━━━━━━━━━━━━\u001b[0m\u001b[37m\u001b[0m \u001b[1m0s\u001b[0m 153ms/step\n",
      "  Done. Extracted forecasts for days: [30, 60, 90]\n",
      "\n",
      "Processing TSLA - Tesla, Inc.\n"
     ]
    },
    {
     "name": "stderr",
     "output_type": "stream",
     "text": [
      "C:\\Users\\User\\AppData\\Local\\Temp\\ipykernel_13900\\947995425.py:49: FutureWarning: YF.download() has changed argument auto_adjust default to True\n",
      "  df = yf.download(ticker, start=START_DATE, end=END_DATE)\n",
      "[*********************100%***********************]  1 of 1 completed\n"
     ]
    },
    {
     "name": "stdout",
     "output_type": "stream",
     "text": [
      "\u001b[1m1/1\u001b[0m \u001b[32m━━━━━━━━━━━━━━━━━━━━\u001b[0m\u001b[37m\u001b[0m \u001b[1m0s\u001b[0m 280ms/step\n",
      "  Done. Extracted forecasts for days: [30, 60, 90]\n",
      "\n",
      "Processing JPM - JPMorgan Chase & Co.\n"
     ]
    },
    {
     "name": "stderr",
     "output_type": "stream",
     "text": [
      "C:\\Users\\User\\AppData\\Local\\Temp\\ipykernel_13900\\947995425.py:49: FutureWarning: YF.download() has changed argument auto_adjust default to True\n",
      "  df = yf.download(ticker, start=START_DATE, end=END_DATE)\n",
      "[*********************100%***********************]  1 of 1 completed\n"
     ]
    },
    {
     "name": "stdout",
     "output_type": "stream",
     "text": [
      "\u001b[1m1/1\u001b[0m \u001b[32m━━━━━━━━━━━━━━━━━━━━\u001b[0m\u001b[37m\u001b[0m \u001b[1m0s\u001b[0m 176ms/step\n",
      "  Done. Extracted forecasts for days: [30, 60, 90]\n",
      "\n",
      "Processing BRK-B - Berkshire Hathaway Inc. (Class B)\n"
     ]
    },
    {
     "name": "stderr",
     "output_type": "stream",
     "text": [
      "C:\\Users\\User\\AppData\\Local\\Temp\\ipykernel_13900\\947995425.py:49: FutureWarning: YF.download() has changed argument auto_adjust default to True\n",
      "  df = yf.download(ticker, start=START_DATE, end=END_DATE)\n",
      "[*********************100%***********************]  1 of 1 completed\n"
     ]
    },
    {
     "name": "stdout",
     "output_type": "stream",
     "text": [
      "\u001b[1m1/1\u001b[0m \u001b[32m━━━━━━━━━━━━━━━━━━━━\u001b[0m\u001b[37m\u001b[0m \u001b[1m0s\u001b[0m 275ms/step\n",
      "  Done. Extracted forecasts for days: [30, 60, 90]\n",
      "\n",
      "Processing V - Visa Inc.\n"
     ]
    },
    {
     "name": "stderr",
     "output_type": "stream",
     "text": [
      "C:\\Users\\User\\AppData\\Local\\Temp\\ipykernel_13900\\947995425.py:49: FutureWarning: YF.download() has changed argument auto_adjust default to True\n",
      "  df = yf.download(ticker, start=START_DATE, end=END_DATE)\n",
      "[*********************100%***********************]  1 of 1 completed\n"
     ]
    },
    {
     "name": "stdout",
     "output_type": "stream",
     "text": [
      "\u001b[1m1/1\u001b[0m \u001b[32m━━━━━━━━━━━━━━━━━━━━\u001b[0m\u001b[37m\u001b[0m \u001b[1m0s\u001b[0m 138ms/step\n",
      "  Done. Extracted forecasts for days: [30, 60, 90]\n",
      "\n",
      "Processing TCS.NS - Tata Consultancy Services\n"
     ]
    },
    {
     "name": "stderr",
     "output_type": "stream",
     "text": [
      "C:\\Users\\User\\AppData\\Local\\Temp\\ipykernel_13900\\947995425.py:49: FutureWarning: YF.download() has changed argument auto_adjust default to True\n",
      "  df = yf.download(ticker, start=START_DATE, end=END_DATE)\n",
      "[*********************100%***********************]  1 of 1 completed\n"
     ]
    },
    {
     "name": "stdout",
     "output_type": "stream",
     "text": [
      "\u001b[1m1/1\u001b[0m \u001b[32m━━━━━━━━━━━━━━━━━━━━\u001b[0m\u001b[37m\u001b[0m \u001b[1m0s\u001b[0m 301ms/step\n",
      "  Done. Extracted forecasts for days: [30, 60, 90]\n",
      "\n",
      "Processing INFY.NS - Infosys Ltd\n"
     ]
    },
    {
     "name": "stderr",
     "output_type": "stream",
     "text": [
      "C:\\Users\\User\\AppData\\Local\\Temp\\ipykernel_13900\\947995425.py:49: FutureWarning: YF.download() has changed argument auto_adjust default to True\n",
      "  df = yf.download(ticker, start=START_DATE, end=END_DATE)\n",
      "[*********************100%***********************]  1 of 1 completed\n"
     ]
    },
    {
     "name": "stdout",
     "output_type": "stream",
     "text": [
      "\u001b[1m1/1\u001b[0m \u001b[32m━━━━━━━━━━━━━━━━━━━━\u001b[0m\u001b[37m\u001b[0m \u001b[1m0s\u001b[0m 366ms/step\n",
      "  Done. Extracted forecasts for days: [30, 60, 90]\n",
      "\n",
      "Processing HDFCBANK.NS - HDFC Bank Ltd\n"
     ]
    },
    {
     "name": "stderr",
     "output_type": "stream",
     "text": [
      "C:\\Users\\User\\AppData\\Local\\Temp\\ipykernel_13900\\947995425.py:49: FutureWarning: YF.download() has changed argument auto_adjust default to True\n",
      "  df = yf.download(ticker, start=START_DATE, end=END_DATE)\n",
      "[*********************100%***********************]  1 of 1 completed\n"
     ]
    },
    {
     "name": "stdout",
     "output_type": "stream",
     "text": [
      "\u001b[1m1/1\u001b[0m \u001b[32m━━━━━━━━━━━━━━━━━━━━\u001b[0m\u001b[37m\u001b[0m \u001b[1m0s\u001b[0m 159ms/step\n",
      "  Done. Extracted forecasts for days: [30, 60, 90]\n",
      "\n",
      "Processing SBIN.NS - State Bank of India\n"
     ]
    },
    {
     "name": "stderr",
     "output_type": "stream",
     "text": [
      "C:\\Users\\User\\AppData\\Local\\Temp\\ipykernel_13900\\947995425.py:49: FutureWarning: YF.download() has changed argument auto_adjust default to True\n",
      "  df = yf.download(ticker, start=START_DATE, end=END_DATE)\n",
      "[*********************100%***********************]  1 of 1 completed\n"
     ]
    },
    {
     "name": "stdout",
     "output_type": "stream",
     "text": [
      "\u001b[1m1/1\u001b[0m \u001b[32m━━━━━━━━━━━━━━━━━━━━\u001b[0m\u001b[37m\u001b[0m \u001b[1m0s\u001b[0m 302ms/step\n",
      "  Done. Extracted forecasts for days: [30, 60, 90]\n",
      "\n",
      "Processing RELIANCE.NS - Reliance Industries Ltd\n"
     ]
    },
    {
     "name": "stderr",
     "output_type": "stream",
     "text": [
      "C:\\Users\\User\\AppData\\Local\\Temp\\ipykernel_13900\\947995425.py:49: FutureWarning: YF.download() has changed argument auto_adjust default to True\n",
      "  df = yf.download(ticker, start=START_DATE, end=END_DATE)\n",
      "[*********************100%***********************]  1 of 1 completed\n"
     ]
    },
    {
     "name": "stdout",
     "output_type": "stream",
     "text": [
      "\u001b[1m1/1\u001b[0m \u001b[32m━━━━━━━━━━━━━━━━━━━━\u001b[0m\u001b[37m\u001b[0m \u001b[1m0s\u001b[0m 194ms/step\n",
      "  Done. Extracted forecasts for days: [30, 60, 90]\n",
      "\n",
      "All done!\n",
      "Results saved as forecast_30_60_90.xlsx and forecast_30_60_90.csv\n"
     ]
    }
   ],
   "source": [
    "# forecast and save to Excel and CSV\n",
    "# --------- Imports ---------\n",
    "import pandas as pd\n",
    "import numpy as np\n",
    "import yfinance as yf\n",
    "from keras.models import load_model\n",
    "from sklearn.preprocessing import MinMaxScaler\n",
    "import keras\n",
    "\n",
    "# --------- 1. Stock List ---------\n",
    "# Dictionary of stock symbols and their company names\n",
    "STOCKS = {\n",
    "    \"AAPL\": \"Apple Inc.\",\n",
    "    \"MSFT\": \"Microsoft Corporation\",\n",
    "    \"AMZN\": \"Amazon.com, Inc.\",\n",
    "    \"GOOGL\": \"Alphabet Inc. (Class A)\",\n",
    "    \"META\": \"Meta Platforms, Inc.\",\n",
    "    \"NVDA\": \"NVIDIA Corporation\",\n",
    "    \"TSLA\": \"Tesla, Inc.\",\n",
    "    \"JPM\": \"JPMorgan Chase & Co.\",\n",
    "    \"BRK-B\": \"Berkshire Hathaway Inc. (Class B)\",\n",
    "    \"V\": \"Visa Inc.\",\n",
    "    \"TCS.NS\": \"Tata Consultancy Services\",\n",
    "    \"INFY.NS\": \"Infosys Ltd\",\n",
    "    \"HDFCBANK.NS\": \"HDFC Bank Ltd\",\n",
    "    \"SBIN.NS\": \"State Bank of India\",\n",
    "    \"RELIANCE.NS\": \"Reliance Industries Ltd\"\n",
    "}\n",
    "\n",
    "# --------- 2. Settings ---------\n",
    "START_DATE = '2010-01-01'\n",
    "END_DATE = '2025-06-30'\n",
    "LOOKBACK_DAYS = 100   # Days used for LSTM input\n",
    "FORECAST_DAYS = 90    # How many days ahead to predict\n",
    "FORECAST_HORIZONS = [30, 60, 90]  # Which forecast points to extract\n",
    "\n",
    "# --------- 3. Load the LSTM Model ---------\n",
    "# Load your pre-trained seq2seq LSTM model\n",
    "model = load_model(\"seq2seq_lstm_stock_forecast.h5\", compile=False)\n",
    "model.compile(optimizer='adam', loss=keras.losses.MeanSquaredError())\n",
    "\n",
    "# --------- 4. Loop Through Stocks and Forecast ---------\n",
    "results = []  # List to store all results\n",
    "\n",
    "for ticker, company in STOCKS.items():\n",
    "    print(f\"\\nProcessing {ticker} - {company}\")\n",
    "\n",
    "    # 4a. Download historical data\n",
    "    df = yf.download(ticker, start=START_DATE, end=END_DATE)\n",
    "    df = df[['Close']].dropna()\n",
    "\n",
    "    # 4b. Check for enough data\n",
    "    if df.empty or len(df) < LOOKBACK_DAYS:\n",
    "        print(f\"  Skipping {ticker}: not enough data ({len(df)} rows)\")\n",
    "        continue\n",
    "\n",
    "    # 4c. Scale closing prices for LSTM\n",
    "    scaler = MinMaxScaler()\n",
    "    scaled_close = scaler.fit_transform(df[['Close']])\n",
    "\n",
    "    # 4d. Prepare input for prediction: last LOOKBACK_DAYS\n",
    "    last_seq = scaled_close[-LOOKBACK_DAYS:].reshape(1, LOOKBACK_DAYS, 1)\n",
    "\n",
    "    # 4e. Forecast next FORECAST_DAYS\n",
    "    pred_scaled = model.predict(last_seq)\n",
    "    pred_prices = scaler.inverse_transform(pred_scaled.reshape(-1, 1)).flatten()\n",
    "\n",
    "    # 4f. Build list of future business dates\n",
    "    future_dates = pd.date_range(\n",
    "        start=df.index[-1] + pd.Timedelta(days=1),\n",
    "        periods=FORECAST_DAYS,\n",
    "        freq='B'\n",
    "    )\n",
    "\n",
    "    # 4g. Extract only the 30th, 60th, and 90th day forecasts\n",
    "    for horizon in FORECAST_HORIZONS:\n",
    "        idx = horizon - 1  # Python is zero-indexed\n",
    "        results.append({\n",
    "            \"Stock\": ticker,\n",
    "            \"Company\": company,\n",
    "            \"Horizon\": f\"{horizon}-Day\",\n",
    "            \"Forecast Date\": future_dates[idx].date(),\n",
    "            \"Predicted Price\": round(pred_prices[idx], 2)\n",
    "        })\n",
    "\n",
    "    print(f\"  Done. Extracted forecasts for days: {FORECAST_HORIZONS}\")\n",
    "\n",
    "# --------- 5. Save Results to Excel and CSV ---------\n",
    "df_out = pd.DataFrame(results)\n",
    "df_out = df_out[[\"Stock\", \"Company\", \"Horizon\", \"Forecast Date\", \"Predicted Price\"]]  # Order columns\n",
    "\n",
    "# Save as Excel\n",
    "df_out.to_excel(\"forecast_30_60_90.xlsx\", index=False)\n",
    "# Save as CSV\n",
    "df_out.to_csv(\"forecast_30_60_90.csv\", index=False)\n",
    "\n",
    "print(\"\\nAll done!\")\n",
    "print(\"Results saved as forecast_30_60_90.xlsx and forecast_30_60_90.csv\")\n"
   ]
  },
  {
   "cell_type": "code",
   "execution_count": 6,
   "id": "71c241e2",
   "metadata": {},
   "outputs": [
    {
     "name": "stdout",
     "output_type": "stream",
     "text": [
      "WhatsApp message sent!\n"
     ]
    }
   ],
   "source": [
    "from twilio.rest import Client\n",
    "\n",
    "account_sid = 'ACbe57d18217f5f3c6aaff8f9b20f14cc6'\n",
    "auth_token = '764a11b5a66fda908ca2f8a8d7ef5434'\n",
    "client = Client(account_sid, auth_token)\n",
    "\n",
    "from_whatsapp_number = 'whatsapp:+14155238886' # Twilio Sandbox WhatsApp number\n",
    "to_whatsapp_number = 'whatsapp:+447552330220' # Your own WhatsApp number\n",
    "\n",
    "try:\n",
    "    message = client.messages.create(\n",
    "        body=\"This is test message using Twilio WhatsApp API\",\n",
    "        from_=from_whatsapp_number,\n",
    "        to=to_whatsapp_number\n",
    "    )\n",
    "    print(\"WhatsApp message sent!\")\n",
    "except Exception as e:\n",
    "    print(\"Error sending WhatsApp message:\", e)\n"
   ]
  },
  {
   "cell_type": "code",
   "execution_count": 3,
   "id": "3acf7299",
   "metadata": {},
   "outputs": [
    {
     "name": "stdout",
     "output_type": "stream",
     "text": [
      "WhatsApp message sent!\n"
     ]
    }
   ],
   "source": [
    "from twilio.rest import Client\n",
    "\n",
    "account_sid = 'ACbe57d18217f5f3c6aaff8f9b20f14cc6'\n",
    "auth_token = '764a11b5a66fda908ca2f8a8d7ef5434'\n",
    "client = Client(account_sid, auth_token)\n",
    "\n",
    "from_whatsapp_number = 'whatsapp:+14155238886'  # Twilio Sandbox WhatsApp number\n",
    "to_whatsapp_number = 'whatsapp:+919368173647'   # Your own WhatsApp number\n",
    "\n",
    "url = 'https://your-server.com/forecast_30_60_90.xlsx'\n",
    "\n",
    "try:\n",
    "    message = client.messages.create(\n",
    "        body=f\"Hello Mohit, here is your file: {url}\",\n",
    "        from_=from_whatsapp_number,\n",
    "        to=to_whatsapp_number\n",
    "    )\n",
    "    print(\"WhatsApp message sent!\")\n",
    "except Exception as e:\n",
    "    print(\"Error sending WhatsApp message:\", e)"
   ]
  },
  {
   "cell_type": "code",
   "execution_count": 4,
   "id": "2995424c",
   "metadata": {},
   "outputs": [
    {
     "name": "stdout",
     "output_type": "stream",
     "text": [
      "WhatsApp message sent to whatsapp:+919368173647!\n",
      "WhatsApp message sent to whatsapp:+447552330220!\n"
     ]
    }
   ],
   "source": [
    "from twilio.rest import Client\n",
    "\n",
    "account_sid = 'ACbe57d18217f5f3c6aaff8f9b20f14cc6'\n",
    "auth_token = '764a11b5a66fda908ca2f8a8d7ef5434'\n",
    "client = Client(account_sid, auth_token)\n",
    "\n",
    "from_whatsapp_number = 'whatsapp:+14155238886'  # Twilio Sandbox WhatsApp number\n",
    "\n",
    "# List of recipient WhatsApp numbers\n",
    "to_numbers = [\n",
    "    'whatsapp:+919368173647',\n",
    "    'whatsapp:+447552330220',\n",
    "    # Add more numbers as needed\n",
    "]\n",
    "\n",
    "url = 'https://your-server.com/forecast_30_60_90.xlsx'\n",
    "\n",
    "for to_whatsapp_number in to_numbers:\n",
    "    try:\n",
    "        message = client.messages.create(\n",
    "            body=f\"Hello, here is your file: {url}\",\n",
    "            from_=from_whatsapp_number,\n",
    "            to=to_whatsapp_number\n",
    "        )\n",
    "        print(f\"WhatsApp message sent to {to_whatsapp_number}!\")\n",
    "    except Exception as e:\n",
    "        print(f\"Error sending WhatsApp message to {to_whatsapp_number}:\", e)"
   ]
  },
  {
   "cell_type": "code",
   "execution_count": null,
   "id": "ef6a1876",
   "metadata": {},
   "outputs": [],
   "source": []
  }
 ],
 "metadata": {
  "kernelspec": {
   "display_name": "myenv",
   "language": "python",
   "name": "python3"
  },
  "language_info": {
   "codemirror_mode": {
    "name": "ipython",
    "version": 3
   },
   "file_extension": ".py",
   "mimetype": "text/x-python",
   "name": "python",
   "nbconvert_exporter": "python",
   "pygments_lexer": "ipython3",
   "version": "3.10.0"
  }
 },
 "nbformat": 4,
 "nbformat_minor": 5
}
